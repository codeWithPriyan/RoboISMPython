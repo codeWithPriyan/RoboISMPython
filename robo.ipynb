{
  "nbformat": 4,
  "nbformat_minor": 0,
  "metadata": {
    "colab": {
      "name": "Untitled1.ipynb",
      "provenance": [],
      "collapsed_sections": [],
      "authorship_tag": "ABX9TyOFcuond1myTXV4jbz6BXy6",
      "include_colab_link": true
    },
    "kernelspec": {
      "name": "python3",
      "display_name": "Python 3"
    },
    "language_info": {
      "name": "python"
    }
  },
  "cells": [
    {
      "cell_type": "markdown",
      "metadata": {
        "id": "view-in-github",
        "colab_type": "text"
      },
      "source": [
        "<a href=\"https://colab.research.google.com/github/codeWithPriyan/RoboISMPython/blob/main/robo.ipynb\" target=\"_parent\"><img src=\"https://colab.research.google.com/assets/colab-badge.svg\" alt=\"Open In Colab\"/></a>"
      ]
    },
    {
      "cell_type": "markdown",
      "source": [
        "# **Ques 1**"
      ],
      "metadata": {
        "id": "ecTmZRlJOqzE"
      }
    },
    {
      "cell_type": "code",
      "source": [
        "def sorterfunction(list, string):\n",
        "  if(string=='asc'):\n",
        "    list.sort()\n",
        "  elif(string=='desc'):\n",
        "    list.sort(reverse=True)\n",
        "  return list"
      ],
      "metadata": {
        "id": "3OIBnZe5Ors5"
      },
      "execution_count": 9,
      "outputs": []
    },
    {
      "cell_type": "code",
      "source": [
        "list=[1,2,3,3,4,5,2,6,5,7,45,4,7]"
      ],
      "metadata": {
        "id": "V8jv4sNVDcWs"
      },
      "execution_count": 7,
      "outputs": []
    },
    {
      "cell_type": "code",
      "source": [
        "sorterfunction(list, 'asc')"
      ],
      "metadata": {
        "colab": {
          "base_uri": "https://localhost:8080/"
        },
        "id": "fv2l7JWSDlIj",
        "outputId": "49daab2d-7c66-4d8d-ddb2-585192623f0d"
      },
      "execution_count": 10,
      "outputs": [
        {
          "output_type": "execute_result",
          "data": {
            "text/plain": [
              "[1, 2, 2, 3, 3, 4, 4, 5, 5, 6, 7, 7, 45]"
            ]
          },
          "metadata": {},
          "execution_count": 10
        }
      ]
    },
    {
      "cell_type": "markdown",
      "source": [
        "# **Ques 2**"
      ],
      "metadata": {
        "id": "n66lZXMcD3cq"
      }
    },
    {
      "cell_type": "code",
      "source": [
        "string='1234567890123496'"
      ],
      "metadata": {
        "id": "FtAcCtH-D6_X"
      },
      "execution_count": 20,
      "outputs": []
    },
    {
      "cell_type": "code",
      "source": [
        "def ccnum(string):\n",
        "  stars='*'*12\n",
        "  b=string[12:]\n",
        "  return stars+b"
      ],
      "metadata": {
        "id": "bGm2JQnvEIyX"
      },
      "execution_count": 18,
      "outputs": []
    },
    {
      "cell_type": "code",
      "source": [
        "ccnum(string)"
      ],
      "metadata": {
        "colab": {
          "base_uri": "https://localhost:8080/",
          "height": 35
        },
        "id": "1BnpKd4DEnvB",
        "outputId": "e36af6e1-8228-442e-d352-56e4222f6137"
      },
      "execution_count": 21,
      "outputs": [
        {
          "output_type": "execute_result",
          "data": {
            "text/plain": [
              "'************3496'"
            ],
            "application/vnd.google.colaboratory.intrinsic+json": {
              "type": "string"
            }
          },
          "metadata": {},
          "execution_count": 21
        }
      ]
    },
    {
      "cell_type": "markdown",
      "source": [
        "# **Ques 3**"
      ],
      "metadata": {
        "id": "YZntMCQ6E1va"
      }
    },
    {
      "cell_type": "code",
      "source": [
        "def calculator(num1, operator, num2):\n",
        "  if(operator=='+'):\n",
        "    ans=num1+num2\n",
        "  elif(operator=='-'):\n",
        "    ans=num1-num2\n",
        "  elif(operator=='*'):\n",
        "    ans=num1*num2\n",
        "  elif(operator=='/'):\n",
        "    ans=num1/num2\n",
        "  return ans"
      ],
      "metadata": {
        "id": "aD8iPhoUE5hE"
      },
      "execution_count": 22,
      "outputs": []
    },
    {
      "cell_type": "code",
      "source": [
        "calculator(1,'+', 4)"
      ],
      "metadata": {
        "colab": {
          "base_uri": "https://localhost:8080/"
        },
        "id": "ycY2CpjSG7gG",
        "outputId": "5ac16977-1a86-448c-e93a-b8dec00dbe15"
      },
      "execution_count": 23,
      "outputs": [
        {
          "output_type": "execute_result",
          "data": {
            "text/plain": [
              "5"
            ]
          },
          "metadata": {},
          "execution_count": 23
        }
      ]
    },
    {
      "cell_type": "markdown",
      "source": [
        "# **Ques 4**"
      ],
      "metadata": {
        "id": "dhoBA_q9HMMR"
      }
    },
    {
      "cell_type": "code",
      "source": [
        "def doubler(string):\n",
        "  dubstr=[]\n",
        "  for i in string:\n",
        "    dubstr.append(2*i)\n",
        "  string=\"\".join(dubstr)\n",
        "\n",
        "  return string"
      ],
      "metadata": {
        "id": "y3VHm5wQHRzV"
      },
      "execution_count": 27,
      "outputs": []
    },
    {
      "cell_type": "code",
      "source": [
        "doubler('wer')"
      ],
      "metadata": {
        "colab": {
          "base_uri": "https://localhost:8080/",
          "height": 35
        },
        "id": "kHXimCNrIGQS",
        "outputId": "d318fb39-e235-465f-bb53-8c4a8753c6ef"
      },
      "execution_count": 28,
      "outputs": [
        {
          "output_type": "execute_result",
          "data": {
            "text/plain": [
              "'wweerr'"
            ],
            "application/vnd.google.colaboratory.intrinsic+json": {
              "type": "string"
            }
          },
          "metadata": {},
          "execution_count": 28
        }
      ]
    },
    {
      "cell_type": "markdown",
      "source": [
        "# **Ques 5**"
      ],
      "metadata": {
        "id": "qFVwupCrIocB"
      }
    },
    {
      "cell_type": "code",
      "source": [
        "array=[]\n",
        "for i in range(99):\n",
        "  array.append(i+1)\n",
        "array.append(89)"
      ],
      "metadata": {
        "id": "CormSRFdIrjB"
      },
      "execution_count": 31,
      "outputs": []
    },
    {
      "cell_type": "code",
      "source": [
        "for i in range(100):\n",
        "  count=0\n",
        "  for j in range(100):\n",
        "    if((i+1)==array[j]):\n",
        "      count+=1\n",
        "  if(count==2):\n",
        "    break\n",
        "\n",
        "i+1"
      ],
      "metadata": {
        "colab": {
          "base_uri": "https://localhost:8080/"
        },
        "id": "S76pYRfuJU59",
        "outputId": "6a40aec5-e0c0-41fc-d246-4302a4f6dda0"
      },
      "execution_count": 37,
      "outputs": [
        {
          "output_type": "execute_result",
          "data": {
            "text/plain": [
              "89"
            ]
          },
          "metadata": {},
          "execution_count": 37
        }
      ]
    },
    {
      "cell_type": "markdown",
      "source": [
        "# **Ques 6**"
      ],
      "metadata": {
        "id": "qaXnNVvEN2Xo"
      }
    },
    {
      "cell_type": "code",
      "execution_count": 4,
      "metadata": {
        "colab": {
          "base_uri": "https://localhost:8080/"
        },
        "id": "IccxnPjB75NJ",
        "outputId": "7a12001b-15df-4012-e40d-5fb85e59fce7"
      },
      "outputs": [
        {
          "output_type": "stream",
          "name": "stdout",
          "text": [
            "[2, 3, 5, 7]\n"
          ]
        }
      ],
      "source": [
        "low, high = 2, 10\n",
        "primes = []\n",
        "\n",
        "for i in range(low, high + 1):\n",
        "    flag = 0\n",
        "\n",
        "    if i < 2:\n",
        "        continue\n",
        "    if i == 2:\n",
        "        primes.append(2)\n",
        "        continue\n",
        "\n",
        "    for x in range(2, i):\n",
        "        if i % x == 0:\n",
        "            flag = 1\n",
        "            break\n",
        "\n",
        "    if flag == 0:\n",
        "        primes.append(i)\n",
        "        \n",
        "print(primes)"
      ]
    },
    {
      "cell_type": "markdown",
      "source": [
        "**Ques 7**"
      ],
      "metadata": {
        "id": "nE8k8fdkLZVu"
      }
    },
    {
      "cell_type": "code",
      "source": [
        "def free_check(num,arr):\n",
        "  counter = 0\n",
        "  for i in range(len(arr)):\n",
        "    if(num==arr[i]):\n",
        "      counter = counter +1\n",
        "  return counter     \n",
        "\n",
        "  "
      ],
      "metadata": {
        "id": "RZXxLrbbPAXw"
      },
      "execution_count": 47,
      "outputs": []
    },
    {
      "cell_type": "code",
      "source": [
        "arry = [0,2,2,3,4,5,5,7]\n",
        "free_check(7,arry)"
      ],
      "metadata": {
        "colab": {
          "base_uri": "https://localhost:8080/"
        },
        "id": "tYTOWHfRP-sf",
        "outputId": "fffe5a44-c2d9-46b2-f8ab-2c52e5173f92"
      },
      "execution_count": 48,
      "outputs": [
        {
          "output_type": "execute_result",
          "data": {
            "text/plain": [
              "1"
            ]
          },
          "metadata": {},
          "execution_count": 48
        }
      ]
    },
    {
      "cell_type": "code",
      "source": [
        "freq_arr = [[0 for x in range(max(arry)+1)]for y in range(2)]\n",
        "                              \n",
        "                              \n",
        "                              "
      ],
      "metadata": {
        "id": "yqWv5bCQQZhE"
      },
      "execution_count": 49,
      "outputs": []
    },
    {
      "cell_type": "code",
      "source": [
        "for i in range(2):\n",
        "  if(i == 0):\n",
        "    for j in range(max(arry)+1):\n",
        "      freq_arr[i][j]=j\n",
        "  if (i==1):\n",
        "    for j in range(max(arry)+1):\n",
        "      freq_arr[i][j]=free_check(j,arry)     "
      ],
      "metadata": {
        "id": "cQGMhRT_RStr"
      },
      "execution_count": 50,
      "outputs": []
    },
    {
      "cell_type": "code",
      "source": [
        "freq_arr"
      ],
      "metadata": {
        "colab": {
          "base_uri": "https://localhost:8080/"
        },
        "id": "mgO9b6RoSbG-",
        "outputId": "cef2b645-6fc1-48d1-8ab8-978ee9142084"
      },
      "execution_count": 51,
      "outputs": [
        {
          "output_type": "execute_result",
          "data": {
            "text/plain": [
              "[[0, 1, 2, 3, 4, 5, 6, 7], [1, 0, 2, 1, 1, 2, 0, 1]]"
            ]
          },
          "metadata": {},
          "execution_count": 51
        }
      ]
    },
    {
      "cell_type": "code",
      "source": [
        "freq_arr[1].index(max(freq_arr[1]))"
      ],
      "metadata": {
        "colab": {
          "base_uri": "https://localhost:8080/"
        },
        "id": "dWdEnvOvS5gU",
        "outputId": "de695355-ef0b-459b-c848-a1699c18c5b2"
      },
      "execution_count": 52,
      "outputs": [
        {
          "output_type": "execute_result",
          "data": {
            "text/plain": [
              "2"
            ]
          },
          "metadata": {},
          "execution_count": 52
        }
      ]
    },
    {
      "cell_type": "markdown",
      "source": [
        "# **Ques8**"
      ],
      "metadata": {
        "id": "TqXGLFwWTQ5C"
      }
    },
    {
      "cell_type": "code",
      "source": [
        "def add(str):\n",
        "  k = 0\n",
        "  for i in str:\n",
        "    if (i.isnumeric()==True):\n",
        "      k = k +int(i)\n",
        "  return k    "
      ],
      "metadata": {
        "id": "4N_v0c4qTWLR"
      },
      "execution_count": 53,
      "outputs": []
    },
    {
      "cell_type": "code",
      "source": [
        "add(\"12 robo24 56 \")"
      ],
      "metadata": {
        "colab": {
          "base_uri": "https://localhost:8080/"
        },
        "id": "tB4pVhKBY6xZ",
        "outputId": "fff51997-135a-4417-a5b8-247ecdad2918"
      },
      "execution_count": 54,
      "outputs": [
        {
          "output_type": "execute_result",
          "data": {
            "text/plain": [
              "20"
            ]
          },
          "metadata": {},
          "execution_count": 54
        }
      ]
    },
    {
      "cell_type": "markdown",
      "source": [
        "# **Ques 9** \n"
      ],
      "metadata": {
        "id": "plq-NVayN9E6"
      }
    },
    {
      "cell_type": "code",
      "source": [
        "string='roboism'\n",
        "strList=list(string) \n",
        "sortedString=''.join(sorted(strList))\n",
        "sortedString"
      ],
      "metadata": {
        "colab": {
          "base_uri": "https://localhost:8080/",
          "height": 35
        },
        "id": "gKS8M58SPV5s",
        "outputId": "88545e6e-de8e-47ba-a3dc-b6f2f91c2fb0"
      },
      "execution_count": 2,
      "outputs": [
        {
          "output_type": "execute_result",
          "data": {
            "text/plain": [
              "'bimoors'"
            ],
            "application/vnd.google.colaboratory.intrinsic+json": {
              "type": "string"
            }
          },
          "metadata": {},
          "execution_count": 2
        }
      ]
    },
    {
      "cell_type": "markdown",
      "source": [
        "# **Ques 10**"
      ],
      "metadata": {
        "id": "wf0wVechBtIG"
      }
    },
    {
      "cell_type": "code",
      "source": [
        "x=10\n",
        "y=20\n",
        "#swapping algo\n",
        "x=x^y\n",
        "y=x^y\n",
        "x=x^y\n",
        "\n",
        "print(x, y)"
      ],
      "metadata": {
        "colab": {
          "base_uri": "https://localhost:8080/"
        },
        "id": "V4GO66z-Bsza",
        "outputId": "d6877dea-78c2-485d-b89a-0827078aaa7e"
      },
      "execution_count": 3,
      "outputs": [
        {
          "output_type": "stream",
          "name": "stdout",
          "text": [
            "20 10\n"
          ]
        }
      ]
    }
  ]
}